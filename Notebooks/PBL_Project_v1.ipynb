{
  "nbformat": 4,
  "nbformat_minor": 0,
  "metadata": {
    "colab": {
      "name": "PBL Project v1.ipynb",
      "provenance": [],
      "collapsed_sections": [
        "sIBZww6kOIAp",
        "UQlXWErlbhsG"
      ]
    },
    "kernelspec": {
      "name": "python3",
      "display_name": "Python 3"
    }
  },
  "cells": [
    {
      "cell_type": "code",
      "metadata": {
        "id": "p4xpuxwKHOGL"
      },
      "source": [
        "!pip install -q sklearn"
      ],
      "execution_count": 1,
      "outputs": []
    },
    {
      "cell_type": "code",
      "metadata": {
        "id": "iI3zi2ZhQ3WB",
        "colab": {
          "base_uri": "https://localhost:8080/"
        },
        "outputId": "5c9cbbb8-a831-4ac7-ef7e-6ebbb43be18b"
      },
      "source": [
        "%tensorflow_version 2.x  # this line is not required unless you are in a notebook"
      ],
      "execution_count": 2,
      "outputs": [
        {
          "output_type": "stream",
          "text": [
            "`%tensorflow_version` only switches the major version: 1.x or 2.x.\n",
            "You set: `2.x  # this line is not required unless you are in a notebook`. This will be interpreted as: `2.x`.\n",
            "\n",
            "\n",
            "TensorFlow 2.x selected.\n"
          ],
          "name": "stdout"
        }
      ]
    },
    {
      "cell_type": "code",
      "metadata": {
        "id": "qcII_xj9Ntyo"
      },
      "source": [
        "from __future__ import absolute_import, division, print_function, unicode_literals\n",
        "\n",
        "import numpy as np\n",
        "import pandas as pd\n",
        "import matplotlib.pyplot as plt\n",
        "from IPython.display import clear_output\n",
        "from six.moves import urllib\n",
        "\n",
        "import tensorflow.compat.v2.feature_column as fc\n",
        "\n",
        "import tensorflow as tf"
      ],
      "execution_count": 3,
      "outputs": []
    },
    {
      "cell_type": "code",
      "metadata": {
        "id": "CpllWsKIOGOy"
      },
      "source": [
        "dftrain = pd.read_csv('https://raw.githubusercontent.com/Saketspradhan/Stock-Market-Analysis-System/main/fundamentally%20strong%20companies%20v3_train.csv')\n",
        "dfeval = pd.read_csv('https://raw.githubusercontent.com/Saketspradhan/Stock-Market-Analysis-System/main/fundamentally%20strong%20companies%20v3_test.csv') "
      ],
      "execution_count": 4,
      "outputs": []
    },
    {
      "cell_type": "code",
      "metadata": {
        "colab": {
          "base_uri": "https://localhost:8080/",
          "height": 307
        },
        "id": "mpKDPZAmdirO",
        "outputId": "bd7d1e47-fa6e-4fa5-d92c-32d65ac81462"
      },
      "source": [
        "dftrain.head()"
      ],
      "execution_count": 5,
      "outputs": [
        {
          "output_type": "execute_result",
          "data": {
            "text/html": [
              "<div>\n",
              "<style scoped>\n",
              "    .dataframe tbody tr th:only-of-type {\n",
              "        vertical-align: middle;\n",
              "    }\n",
              "\n",
              "    .dataframe tbody tr th {\n",
              "        vertical-align: top;\n",
              "    }\n",
              "\n",
              "    .dataframe thead th {\n",
              "        text-align: right;\n",
              "    }\n",
              "</style>\n",
              "<table border=\"1\" class=\"dataframe\">\n",
              "  <thead>\n",
              "    <tr style=\"text-align: right;\">\n",
              "      <th></th>\n",
              "      <th>Name</th>\n",
              "      <th>CMP</th>\n",
              "      <th>Price_to_Earnings</th>\n",
              "      <th>Market_Capitalization</th>\n",
              "      <th>Dividend_Yield</th>\n",
              "      <th>Net_Profit_last_Quarter</th>\n",
              "      <th>YOY_Quarterly_Profit_Growth</th>\n",
              "      <th>Sales_last_Quarter</th>\n",
              "      <th>YOY_Quarterly_Sales_Growth</th>\n",
              "      <th>Return_on_Capital_Employed</th>\n",
              "      <th>Sales_Growth_3_Years</th>\n",
              "      <th>Profit_Growth_3_Years</th>\n",
              "      <th>Debt_to_Equity</th>\n",
              "    </tr>\n",
              "  </thead>\n",
              "  <tbody>\n",
              "    <tr>\n",
              "      <th>0</th>\n",
              "      <td>Ksolves India</td>\n",
              "      <td>572.50</td>\n",
              "      <td>42.58</td>\n",
              "      <td>339.38</td>\n",
              "      <td>5.68</td>\n",
              "      <td>4.00</td>\n",
              "      <td>354.55</td>\n",
              "      <td>9.60</td>\n",
              "      <td>126.95</td>\n",
              "      <td>161.06</td>\n",
              "      <td>91.53</td>\n",
              "      <td>410.23</td>\n",
              "      <td>0.00</td>\n",
              "    </tr>\n",
              "    <tr>\n",
              "      <th>1</th>\n",
              "      <td>Nestle India</td>\n",
              "      <td>18273.30</td>\n",
              "      <td>79.70</td>\n",
              "      <td>176236.10</td>\n",
              "      <td>1.09</td>\n",
              "      <td>538.58</td>\n",
              "      <td>10.68</td>\n",
              "      <td>3476.70</td>\n",
              "      <td>13.97</td>\n",
              "      <td>139.29</td>\n",
              "      <td>10.07</td>\n",
              "      <td>19.34</td>\n",
              "      <td>0.07</td>\n",
              "    </tr>\n",
              "    <tr>\n",
              "      <th>2</th>\n",
              "      <td>Goenka Business</td>\n",
              "      <td>9.22</td>\n",
              "      <td>27.25</td>\n",
              "      <td>11.99</td>\n",
              "      <td>0.00</td>\n",
              "      <td>0.26</td>\n",
              "      <td>124.76</td>\n",
              "      <td>110.37</td>\n",
              "      <td>982.06</td>\n",
              "      <td>69.38</td>\n",
              "      <td>202.61</td>\n",
              "      <td>38.50</td>\n",
              "      <td>0.00</td>\n",
              "    </tr>\n",
              "    <tr>\n",
              "      <th>3</th>\n",
              "      <td>Tips Industries</td>\n",
              "      <td>1148.70</td>\n",
              "      <td>29.06</td>\n",
              "      <td>1510.21</td>\n",
              "      <td>0.13</td>\n",
              "      <td>14.58</td>\n",
              "      <td>139.80</td>\n",
              "      <td>28.12</td>\n",
              "      <td>87.72</td>\n",
              "      <td>64.57</td>\n",
              "      <td>23.99</td>\n",
              "      <td>140.63</td>\n",
              "      <td>0.00</td>\n",
              "    </tr>\n",
              "    <tr>\n",
              "      <th>4</th>\n",
              "      <td>Ajanta Soya</td>\n",
              "      <td>109.65</td>\n",
              "      <td>7.02</td>\n",
              "      <td>176.50</td>\n",
              "      <td>0.00</td>\n",
              "      <td>9.47</td>\n",
              "      <td>460.36</td>\n",
              "      <td>260.80</td>\n",
              "      <td>29.63</td>\n",
              "      <td>60.89</td>\n",
              "      <td>39.10</td>\n",
              "      <td>251.27</td>\n",
              "      <td>0.04</td>\n",
              "    </tr>\n",
              "  </tbody>\n",
              "</table>\n",
              "</div>"
            ],
            "text/plain": [
              "              Name       CMP  ...  Profit_Growth_3_Years  Debt_to_Equity\n",
              "0    Ksolves India    572.50  ...                 410.23            0.00\n",
              "1     Nestle India  18273.30  ...                  19.34            0.07\n",
              "2  Goenka Business      9.22  ...                  38.50            0.00\n",
              "3  Tips Industries   1148.70  ...                 140.63            0.00\n",
              "4      Ajanta Soya    109.65  ...                 251.27            0.04\n",
              "\n",
              "[5 rows x 13 columns]"
            ]
          },
          "metadata": {
            "tags": []
          },
          "execution_count": 5
        }
      ]
    },
    {
      "cell_type": "code",
      "metadata": {
        "colab": {
          "base_uri": "https://localhost:8080/",
          "height": 307
        },
        "id": "NLZdnKAodmQ-",
        "outputId": "ec638980-88d4-4c4c-f984-0fd067698dd3"
      },
      "source": [
        "dfeval.head()"
      ],
      "execution_count": 6,
      "outputs": [
        {
          "output_type": "execute_result",
          "data": {
            "text/html": [
              "<div>\n",
              "<style scoped>\n",
              "    .dataframe tbody tr th:only-of-type {\n",
              "        vertical-align: middle;\n",
              "    }\n",
              "\n",
              "    .dataframe tbody tr th {\n",
              "        vertical-align: top;\n",
              "    }\n",
              "\n",
              "    .dataframe thead th {\n",
              "        text-align: right;\n",
              "    }\n",
              "</style>\n",
              "<table border=\"1\" class=\"dataframe\">\n",
              "  <thead>\n",
              "    <tr style=\"text-align: right;\">\n",
              "      <th></th>\n",
              "      <th>Name</th>\n",
              "      <th>CMP</th>\n",
              "      <th>Price_to_Earnings</th>\n",
              "      <th>Market_Capitalization</th>\n",
              "      <th>Dividend_Yield</th>\n",
              "      <th>Net_Profit_last_Quarter</th>\n",
              "      <th>YOY_Quarterly_Profit_Growth</th>\n",
              "      <th>Sales_last_Quarter</th>\n",
              "      <th>YOY_Quarterly_Sales_Growth</th>\n",
              "      <th>Return_on_Capital_Employed</th>\n",
              "      <th>Sales_Growth_3_Years</th>\n",
              "      <th>Profit_Growth_3_Years</th>\n",
              "      <th>Debt_to_Equity</th>\n",
              "    </tr>\n",
              "  </thead>\n",
              "  <tbody>\n",
              "    <tr>\n",
              "      <th>0</th>\n",
              "      <td>Vistar Amar</td>\n",
              "      <td>71.55</td>\n",
              "      <td>10.31</td>\n",
              "      <td>22.90</td>\n",
              "      <td>0.00</td>\n",
              "      <td>0.84</td>\n",
              "      <td>78.72</td>\n",
              "      <td>12.14</td>\n",
              "      <td>23.50</td>\n",
              "      <td>54.81</td>\n",
              "      <td>99.52</td>\n",
              "      <td>380.59</td>\n",
              "      <td>0.00</td>\n",
              "    </tr>\n",
              "    <tr>\n",
              "      <th>1</th>\n",
              "      <td>Chandra Pr. Intl</td>\n",
              "      <td>163.45</td>\n",
              "      <td>4.37</td>\n",
              "      <td>60.48</td>\n",
              "      <td>0.00</td>\n",
              "      <td>7.28</td>\n",
              "      <td>966.67</td>\n",
              "      <td>184.37</td>\n",
              "      <td>338.25</td>\n",
              "      <td>42.57</td>\n",
              "      <td>55.98</td>\n",
              "      <td>50.16</td>\n",
              "      <td>0.15</td>\n",
              "    </tr>\n",
              "    <tr>\n",
              "      <th>2</th>\n",
              "      <td>Godawari Power</td>\n",
              "      <td>1359.75</td>\n",
              "      <td>4.68</td>\n",
              "      <td>4801.48</td>\n",
              "      <td>1.36</td>\n",
              "      <td>434.87</td>\n",
              "      <td>835.41</td>\n",
              "      <td>1126.18</td>\n",
              "      <td>66.95</td>\n",
              "      <td>37.42</td>\n",
              "      <td>17.46</td>\n",
              "      <td>44.40</td>\n",
              "      <td>0.44</td>\n",
              "    </tr>\n",
              "    <tr>\n",
              "      <th>3</th>\n",
              "      <td>Paramone Concept</td>\n",
              "      <td>29.55</td>\n",
              "      <td>6.01</td>\n",
              "      <td>44.71</td>\n",
              "      <td>0.00</td>\n",
              "      <td>5.69</td>\n",
              "      <td>151.40</td>\n",
              "      <td>8.84</td>\n",
              "      <td>-74.29</td>\n",
              "      <td>34.65</td>\n",
              "      <td>37.54</td>\n",
              "      <td>92.07</td>\n",
              "      <td>0.81</td>\n",
              "    </tr>\n",
              "    <tr>\n",
              "      <th>4</th>\n",
              "      <td>Ajanta Pharma</td>\n",
              "      <td>2298.25</td>\n",
              "      <td>29.24</td>\n",
              "      <td>19881.52</td>\n",
              "      <td>0.41</td>\n",
              "      <td>173.75</td>\n",
              "      <td>17.59</td>\n",
              "      <td>747.99</td>\n",
              "      <td>11.94</td>\n",
              "      <td>31.95</td>\n",
              "      <td>10.78</td>\n",
              "      <td>11.83</td>\n",
              "      <td>0.01</td>\n",
              "    </tr>\n",
              "  </tbody>\n",
              "</table>\n",
              "</div>"
            ],
            "text/plain": [
              "               Name      CMP  ...  Profit_Growth_3_Years  Debt_to_Equity\n",
              "0       Vistar Amar    71.55  ...                 380.59            0.00\n",
              "1  Chandra Pr. Intl   163.45  ...                  50.16            0.15\n",
              "2    Godawari Power  1359.75  ...                  44.40            0.44\n",
              "3  Paramone Concept    29.55  ...                  92.07            0.81\n",
              "4     Ajanta Pharma  2298.25  ...                  11.83            0.01\n",
              "\n",
              "[5 rows x 13 columns]"
            ]
          },
          "metadata": {
            "tags": []
          },
          "execution_count": 6
        }
      ]
    },
    {
      "cell_type": "code",
      "metadata": {
        "id": "mKsXeWinQiVR"
      },
      "source": [
        "y_train = dftrain.pop('CMP')\n",
        "y_eval = dfeval.pop('CMP')"
      ],
      "execution_count": 7,
      "outputs": []
    },
    {
      "cell_type": "code",
      "metadata": {
        "id": "IkL2G42GRMf8",
        "colab": {
          "base_uri": "https://localhost:8080/",
          "height": 315
        },
        "outputId": "7a3703e4-5b17-468b-fe7d-11862e30a1f8"
      },
      "source": [
        "dftrain.describe()"
      ],
      "execution_count": 8,
      "outputs": [
        {
          "output_type": "execute_result",
          "data": {
            "text/html": [
              "<div>\n",
              "<style scoped>\n",
              "    .dataframe tbody tr th:only-of-type {\n",
              "        vertical-align: middle;\n",
              "    }\n",
              "\n",
              "    .dataframe tbody tr th {\n",
              "        vertical-align: top;\n",
              "    }\n",
              "\n",
              "    .dataframe thead th {\n",
              "        text-align: right;\n",
              "    }\n",
              "</style>\n",
              "<table border=\"1\" class=\"dataframe\">\n",
              "  <thead>\n",
              "    <tr style=\"text-align: right;\">\n",
              "      <th></th>\n",
              "      <th>Price_to_Earnings</th>\n",
              "      <th>Market_Capitalization</th>\n",
              "      <th>Dividend_Yield</th>\n",
              "      <th>Net_Profit_last_Quarter</th>\n",
              "      <th>YOY_Quarterly_Profit_Growth</th>\n",
              "      <th>Sales_last_Quarter</th>\n",
              "      <th>YOY_Quarterly_Sales_Growth</th>\n",
              "      <th>Return_on_Capital_Employed</th>\n",
              "      <th>Sales_Growth_3_Years</th>\n",
              "      <th>Profit_Growth_3_Years</th>\n",
              "      <th>Debt_to_Equity</th>\n",
              "    </tr>\n",
              "  </thead>\n",
              "  <tbody>\n",
              "    <tr>\n",
              "      <th>count</th>\n",
              "      <td>154.000000</td>\n",
              "      <td>154.000000</td>\n",
              "      <td>154.000000</td>\n",
              "      <td>154.000000</td>\n",
              "      <td>154.000000</td>\n",
              "      <td>154.000000</td>\n",
              "      <td>154.000000</td>\n",
              "      <td>154.000000</td>\n",
              "      <td>154.000000</td>\n",
              "      <td>154.000000</td>\n",
              "      <td>154.000000</td>\n",
              "    </tr>\n",
              "    <tr>\n",
              "      <th>mean</th>\n",
              "      <td>29.866948</td>\n",
              "      <td>7943.573247</td>\n",
              "      <td>0.385325</td>\n",
              "      <td>63.752857</td>\n",
              "      <td>535.153182</td>\n",
              "      <td>625.429740</td>\n",
              "      <td>117.474805</td>\n",
              "      <td>26.552208</td>\n",
              "      <td>30.706688</td>\n",
              "      <td>73.682597</td>\n",
              "      <td>0.170130</td>\n",
              "    </tr>\n",
              "    <tr>\n",
              "      <th>std</th>\n",
              "      <td>47.503574</td>\n",
              "      <td>21500.887172</td>\n",
              "      <td>1.011613</td>\n",
              "      <td>120.445538</td>\n",
              "      <td>1559.487004</td>\n",
              "      <td>1650.736611</td>\n",
              "      <td>285.437621</td>\n",
              "      <td>19.969396</td>\n",
              "      <td>33.209875</td>\n",
              "      <td>88.433414</td>\n",
              "      <td>0.226439</td>\n",
              "    </tr>\n",
              "    <tr>\n",
              "      <th>min</th>\n",
              "      <td>1.170000</td>\n",
              "      <td>2.350000</td>\n",
              "      <td>0.000000</td>\n",
              "      <td>-6.030000</td>\n",
              "      <td>10.680000</td>\n",
              "      <td>0.020000</td>\n",
              "      <td>-93.100000</td>\n",
              "      <td>0.780000</td>\n",
              "      <td>10.030000</td>\n",
              "      <td>10.420000</td>\n",
              "      <td>0.000000</td>\n",
              "    </tr>\n",
              "    <tr>\n",
              "      <th>25%</th>\n",
              "      <td>11.535000</td>\n",
              "      <td>79.972500</td>\n",
              "      <td>0.000000</td>\n",
              "      <td>1.392500</td>\n",
              "      <td>67.012500</td>\n",
              "      <td>15.547500</td>\n",
              "      <td>21.495000</td>\n",
              "      <td>14.685000</td>\n",
              "      <td>13.755000</td>\n",
              "      <td>31.650000</td>\n",
              "      <td>0.000000</td>\n",
              "    </tr>\n",
              "    <tr>\n",
              "      <th>50%</th>\n",
              "      <td>21.030000</td>\n",
              "      <td>810.250000</td>\n",
              "      <td>0.120000</td>\n",
              "      <td>12.245000</td>\n",
              "      <td>148.435000</td>\n",
              "      <td>114.325000</td>\n",
              "      <td>49.475000</td>\n",
              "      <td>22.405000</td>\n",
              "      <td>18.275000</td>\n",
              "      <td>46.335000</td>\n",
              "      <td>0.070000</td>\n",
              "    </tr>\n",
              "    <tr>\n",
              "      <th>75%</th>\n",
              "      <td>32.582500</td>\n",
              "      <td>5783.247500</td>\n",
              "      <td>0.427500</td>\n",
              "      <td>64.560000</td>\n",
              "      <td>382.270000</td>\n",
              "      <td>407.655000</td>\n",
              "      <td>115.272500</td>\n",
              "      <td>34.452500</td>\n",
              "      <td>36.117500</td>\n",
              "      <td>70.565000</td>\n",
              "      <td>0.237500</td>\n",
              "    </tr>\n",
              "    <tr>\n",
              "      <th>max</th>\n",
              "      <td>548.040000</td>\n",
              "      <td>176236.100000</td>\n",
              "      <td>10.270000</td>\n",
              "      <td>629.900000</td>\n",
              "      <td>12011.110000</td>\n",
              "      <td>15503.940000</td>\n",
              "      <td>2983.330000</td>\n",
              "      <td>161.060000</td>\n",
              "      <td>250.340000</td>\n",
              "      <td>735.210000</td>\n",
              "      <td>0.980000</td>\n",
              "    </tr>\n",
              "  </tbody>\n",
              "</table>\n",
              "</div>"
            ],
            "text/plain": [
              "       Price_to_Earnings  ...  Debt_to_Equity\n",
              "count         154.000000  ...      154.000000\n",
              "mean           29.866948  ...        0.170130\n",
              "std            47.503574  ...        0.226439\n",
              "min             1.170000  ...        0.000000\n",
              "25%            11.535000  ...        0.000000\n",
              "50%            21.030000  ...        0.070000\n",
              "75%            32.582500  ...        0.237500\n",
              "max           548.040000  ...        0.980000\n",
              "\n",
              "[8 rows x 11 columns]"
            ]
          },
          "metadata": {
            "tags": []
          },
          "execution_count": 8
        }
      ]
    },
    {
      "cell_type": "code",
      "metadata": {
        "id": "tR1Oy1dISdjn",
        "colab": {
          "base_uri": "https://localhost:8080/"
        },
        "outputId": "6bfd42d7-a999-4e63-9905-192a47f93454"
      },
      "source": [
        "dftrain.shape"
      ],
      "execution_count": 9,
      "outputs": [
        {
          "output_type": "execute_result",
          "data": {
            "text/plain": [
              "(154, 12)"
            ]
          },
          "metadata": {
            "tags": []
          },
          "execution_count": 9
        }
      ]
    },
    {
      "cell_type": "code",
      "metadata": {
        "id": "aX1lKW7TTh-E",
        "colab": {
          "base_uri": "https://localhost:8080/"
        },
        "outputId": "017a0aa5-7a24-443f-e8c5-7a6bc6898f70"
      },
      "source": [
        "y_train.head()"
      ],
      "execution_count": 10,
      "outputs": [
        {
          "output_type": "execute_result",
          "data": {
            "text/plain": [
              "0      572.50\n",
              "1    18273.30\n",
              "2        9.22\n",
              "3     1148.70\n",
              "4      109.65\n",
              "Name: CMP, dtype: float64"
            ]
          },
          "metadata": {
            "tags": []
          },
          "execution_count": 10
        }
      ]
    },
    {
      "cell_type": "code",
      "metadata": {
        "colab": {
          "base_uri": "https://localhost:8080/",
          "height": 298
        },
        "id": "7QOevRARzZYI",
        "outputId": "67278aae-4921-47ba-f192-f8147c9ce2d1"
      },
      "source": [
        "dftrain.plot(kind='hist', bins=40, title='Table Summary')"
      ],
      "execution_count": 11,
      "outputs": [
        {
          "output_type": "execute_result",
          "data": {
            "text/plain": [
              "<matplotlib.axes._subplots.AxesSubplot at 0x7f7031bed7d0>"
            ]
          },
          "metadata": {
            "tags": []
          },
          "execution_count": 11
        },
        {
          "output_type": "display_data",
          "data": {
            "image/png": "[encoded data removed]",
            "text/plain": [
              "<Figure size 432x288 with 1 Axes>"
            ]
          },
          "metadata": {
            "tags": [],
            "needs_background": "light"
          }
        }
      ]
    },
    {
      "cell_type": "code",
      "metadata": {
        "id": "Edndbw4sU5Wd",
        "colab": {
          "base_uri": "https://localhost:8080/",
          "height": 282
        },
        "outputId": "8b23b685-84a6-438b-80fe-5cd1bec9e32d"
      },
      "source": [
        "dftrain.Price_to_Earnings.hist(bins=40)"
      ],
      "execution_count": 12,
      "outputs": [
        {
          "output_type": "execute_result",
          "data": {
            "text/plain": [
              "<matplotlib.axes._subplots.AxesSubplot at 0x7f703157f0d0>"
            ]
          },
          "metadata": {
            "tags": []
          },
          "execution_count": 12
        },
        {
          "output_type": "display_data",
          "data": {
            "image/png": "[encoded data removed]",
            "text/plain": [
              "<Figure size 432x288 with 1 Axes>"
            ]
          },
          "metadata": {
            "tags": [],
            "needs_background": "light"
          }
        }
      ]
    },
    {
      "cell_type": "code",
      "metadata": {
        "colab": {
          "base_uri": "https://localhost:8080/",
          "height": 282
        },
        "id": "UMBStMXV0gaq",
        "outputId": "b66f7abe-de3f-421e-cfe5-8bf8f454de52"
      },
      "source": [
        "dftrain.Market_Capitalization.hist(bins=20)"
      ],
      "execution_count": 36,
      "outputs": [
        {
          "output_type": "execute_result",
          "data": {
            "text/plain": [
              "<matplotlib.axes._subplots.AxesSubplot at 0x7f7029476250>"
            ]
          },
          "metadata": {
            "tags": []
          },
          "execution_count": 36
        },
        {
          "output_type": "display_data",
          "data": {
            "image/png": "[encoded data removed]",
            "text/plain": [
              "<Figure size 432x288 with 1 Axes>"
            ]
          },
          "metadata": {
            "tags": [],
            "needs_background": "light"
          }
        }
      ]
    },
    {
      "cell_type": "code",
      "metadata": {
        "colab": {
          "base_uri": "https://localhost:8080/",
          "height": 282
        },
        "id": "RIdSPM7j1AI6",
        "outputId": "b30fd465-db22-4cd3-8e0a-15362db8a4f3"
      },
      "source": [
        "dftrain.Net_Profit_last_Quarter.hist(bins=100)"
      ],
      "execution_count": 14,
      "outputs": [
        {
          "output_type": "execute_result",
          "data": {
            "text/plain": [
              "<matplotlib.axes._subplots.AxesSubplot at 0x7f7031039b90>"
            ]
          },
          "metadata": {
            "tags": []
          },
          "execution_count": 14
        },
        {
          "output_type": "display_data",
          "data": {
            "image/png": "[encoded data removed]",
            "text/plain": [
              "<Figure size 432x288 with 1 Axes>"
            ]
          },
          "metadata": {
            "tags": [],
            "needs_background": "light"
          }
        }
      ]
    },
    {
      "cell_type": "code",
      "metadata": {
        "id": "4SM_tYvyUtsw",
        "colab": {
          "base_uri": "https://localhost:8080/",
          "height": 298
        },
        "outputId": "5dbc607d-010d-43ce-a5cf-d4fa685cce59"
      },
      "source": [
        "dftrain.Debt_to_Equity.plot(kind='hist', bins=100, title='Company Debt to Equity Ratio')"
      ],
      "execution_count": 16,
      "outputs": [
        {
          "output_type": "execute_result",
          "data": {
            "text/plain": [
              "<matplotlib.axes._subplots.AxesSubplot at 0x7f7030ca0810>"
            ]
          },
          "metadata": {
            "tags": []
          },
          "execution_count": 16
        },
        {
          "output_type": "display_data",
          "data": {
            "image/png": "[encoded data removed]",
            "text/plain": [
              "<Figure size 432x288 with 1 Axes>"
            ]
          },
          "metadata": {
            "tags": [],
            "needs_background": "light"
          }
        }
      ]
    },
    {
      "cell_type": "markdown",
      "metadata": {
        "id": "l42qmk_bVHvD"
      },
      "source": [
        "After analyzing this information, we should notice the following:\n",
        "- A Linear trend is observed across the Price to Earnings' ratio with the exception of a few outliers\n",
        "- Almost 2/3 companies have a Market Cap. of less than 25,000\n",
        "- Most companies have a nearly 0 Debt to Equity Ratio\n",
        "\n"
      ]
    },
    {
      "cell_type": "code",
      "metadata": {
        "id": "-lcnwG0VXF5h",
        "colab": {
          "base_uri": "https://localhost:8080/"
        },
        "outputId": "4ff9943f-474c-4f0e-f288-da550599d724"
      },
      "source": [
        "NUMERIC_COLUMNS = ['Price_to_Earnings', 'Market_Capitalization', 'Dividend_Yield', 'Net_Profit_last_Quarter', 'YOY_Quarterly_Profit_Growth', 'Sales_last_Quarter', 'YOY_Quarterly_Sales_Growth', 'Return_on_Capital_Employed', 'Sales_Growth_3_Years', 'Profit_Growth_3_Years', 'Debt_to_Equity']\n",
        "feature_columns = []\n",
        "\n",
        "for feature_name in NUMERIC_COLUMNS: feature_columns.append(tf.feature_column.numeric_column(feature_name, dtype=tf.float32))\n",
        "\n",
        "feature_columns"
      ],
      "execution_count": 28,
      "outputs": [
        {
          "output_type": "execute_result",
          "data": {
            "text/plain": [
              "[NumericColumn(key='Price_to_Earnings', shape=(1,), default_value=None, dtype=tf.float32, normalizer_fn=None),\n",
              " NumericColumn(key='Market_Capitalization', shape=(1,), default_value=None, dtype=tf.float32, normalizer_fn=None),\n",
              " NumericColumn(key='Dividend_Yield', shape=(1,), default_value=None, dtype=tf.float32, normalizer_fn=None),\n",
              " NumericColumn(key='Net_Profit_last_Quarter', shape=(1,), default_value=None, dtype=tf.float32, normalizer_fn=None),\n",
              " NumericColumn(key='YOY_Quarterly_Profit_Growth', shape=(1,), default_value=None, dtype=tf.float32, normalizer_fn=None),\n",
              " NumericColumn(key='Sales_last_Quarter', shape=(1,), default_value=None, dtype=tf.float32, normalizer_fn=None),\n",
              " NumericColumn(key='YOY_Quarterly_Sales_Growth', shape=(1,), default_value=None, dtype=tf.float32, normalizer_fn=None),\n",
              " NumericColumn(key='Return_on_Capital_Employed', shape=(1,), default_value=None, dtype=tf.float32, normalizer_fn=None),\n",
              " NumericColumn(key='Sales_Growth_3_Years', shape=(1,), default_value=None, dtype=tf.float32, normalizer_fn=None),\n",
              " NumericColumn(key='Profit_Growth_3_Years', shape=(1,), default_value=None, dtype=tf.float32, normalizer_fn=None),\n",
              " NumericColumn(key='Debt_to_Equity', shape=(1,), default_value=None, dtype=tf.float32, normalizer_fn=None)]"
            ]
          },
          "metadata": {
            "tags": []
          },
          "execution_count": 28
        }
      ]
    },
    {
      "cell_type": "code",
      "metadata": {
        "id": "I3qcbvOYbIwa"
      },
      "source": [
        "def make_input_fn(data_df, label_df, num_epochs=10, shuffle=True, batch_size=32):\n",
        "  def input_function():  # inner function, this will be returned\n",
        "    ds = tf.data.Dataset.from_tensor_slices((dict(data_df), label_df))  # create tf.data.Dataset object with data and its label\n",
        "    if shuffle:\n",
        "      ds = ds.shuffle(1000)  # randomize order of data\n",
        "    ds = ds.batch(batch_size).repeat(num_epochs)  # split dataset into batches of 32 and repeat process for number of epochs\n",
        "    return ds  # return a batch of the dataset\n",
        "  return input_function  # return a function object for use\n",
        "\n",
        "train_input_fn = make_input_fn(dftrain, y_train)  # here we will call the input_function that was returned to us to get a dataset object we can feed to the model\n",
        "eval_input_fn = make_input_fn(dfeval, y_eval, num_epochs=1, shuffle=False)"
      ],
      "execution_count": 29,
      "outputs": []
    },
    {
      "cell_type": "markdown",
      "metadata": {
        "id": "FXqlPst9fpx4"
      },
      "source": [
        "###Creating the Model\n",
        "Now we are going to use a linear estimator to utilize the linear regression algorithm. \n"
      ]
    },
    {
      "cell_type": "code",
      "metadata": {
        "id": "q1Wo8brFf663",
        "colab": {
          "base_uri": "https://localhost:8080/"
        },
        "outputId": "b06b4485-d1fc-42cf-c37f-599cbbdb4156"
      },
      "source": [
        "linear_est = tf.estimator.LinearClassifier(feature_columns=feature_columns)\n",
        "# We create a linear estimtor by passing the feature columns we created earlier"
      ],
      "execution_count": 30,
      "outputs": [
        {
          "output_type": "stream",
          "text": [
            "INFO:tensorflow:Using default config.\n",
            "WARNING:tensorflow:Using temporary folder as model directory: /tmp/tmpbzeb4sip\n",
            "INFO:tensorflow:Using config: {'_model_dir': '/tmp/tmpbzeb4sip', '_tf_random_seed': None, '_save_summary_steps': 100, '_save_checkpoints_steps': None, '_save_checkpoints_secs': 600, '_session_config': allow_soft_placement: true\n",
            "graph_options {\n",
            "  rewrite_options {\n",
            "    meta_optimizer_iterations: ONE\n",
            "  }\n",
            "}\n",
            ", '_keep_checkpoint_max': 5, '_keep_checkpoint_every_n_hours': 10000, '_log_step_count_steps': 100, '_train_distribute': None, '_device_fn': None, '_protocol': None, '_eval_distribute': None, '_experimental_distribute': None, '_experimental_max_worker_delay_secs': None, '_session_creation_timeout_secs': 7200, '_checkpoint_save_graph_def': True, '_service': None, '_cluster_spec': ClusterSpec({}), '_task_type': 'worker', '_task_id': 0, '_global_id_in_cluster': 0, '_master': '', '_evaluation_master': '', '_is_chief': True, '_num_ps_replicas': 0, '_num_worker_replicas': 1}\n"
          ],
          "name": "stdout"
        }
      ]
    },
    {
      "cell_type": "code",
      "metadata": {
        "id": "JQz0Lj60hjLI",
        "colab": {
          "base_uri": "https://localhost:8080/",
          "height": 525
        },
        "outputId": "eec262fd-e206-46b6-d8d7-7c9067546f16"
      },
      "source": [
        "pred_dicts = list(linear_est.predict(eval_input_fn))\n",
        "probs = pd.Series([pred['probabilities'][1] for pred in pred_dicts])\n",
        "\n",
        "probs.plot(kind='hist', bins=20, title='Predicted Probabilities')"
      ],
      "execution_count": null,
      "outputs": [
        {
          "output_type": "stream",
          "text": [
            "INFO:tensorflow:Calling model_fn.\n",
            "WARNING:tensorflow:Layer linear/linear_model is casting an input tensor from dtype float64 to the layer's dtype of float32, which is new behavior in TensorFlow 2.  The layer has dtype float32 because it's dtype defaults to floatx.\n",
            "\n",
            "If you intended to run this layer in float32, you can safely ignore this warning. If in doubt, this warning is likely only an issue if you are porting a TensorFlow 1.X model to TensorFlow 2.\n",
            "\n",
            "To change all layers to have dtype float64 by default, call `tf.keras.backend.set_floatx('float64')`. To change just this layer, pass dtype='float64' to the layer constructor. If you are the author of this layer, you can disable autocasting by passing autocast=False to the base Layer constructor.\n",
            "\n",
            "INFO:tensorflow:Done calling model_fn.\n",
            "INFO:tensorflow:Graph was finalized.\n",
            "INFO:tensorflow:Restoring parameters from /tmp/tmpupqmt1yp/model.ckpt-200\n",
            "INFO:tensorflow:Running local_init_op.\n",
            "INFO:tensorflow:Done running local_init_op.\n"
          ],
          "name": "stdout"
        },
        {
          "output_type": "execute_result",
          "data": {
            "text/plain": [
              "<matplotlib.axes._subplots.AxesSubplot at 0x7f6807c6ac18>"
            ]
          },
          "metadata": {
            "tags": []
          },
          "execution_count": 28
        },
        {
          "output_type": "display_data",
          "data": {
            "image/png": "[encoded data removed]",
            "text/plain": [
              "<Figure size 432x288 with 1 Axes>"
            ]
          },
          "metadata": {
            "tags": [],
            "needs_background": "light"
          }
        }
      ]
    }
  ]
}