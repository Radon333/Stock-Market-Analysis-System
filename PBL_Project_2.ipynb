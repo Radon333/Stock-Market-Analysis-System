{
  "nbformat": 4,
  "nbformat_minor": 0,
  "metadata": {
    "colab": {
      "name": "PBL Project 2.ipynb",
      "provenance": [],
      "collapsed_sections": []
    },
    "kernelspec": {
      "name": "python3",
      "display_name": "Python 3"
    },
    "language_info": {
      "name": "python"
    }
  },
  "cells": [
    {
      "cell_type": "code",
      "metadata": {
        "id": "_adzNCHFTTDR"
      },
      "source": [
        "!pip install -q seaborn"
      ],
      "execution_count": 1,
      "outputs": []
    },
    {
      "cell_type": "code",
      "metadata": {
        "id": "8OdovC5dXgwd"
      },
      "source": [
        "import matplotlib.pyplot as plt\n",
        "import numpy as np\n",
        "import pandas as pd\n",
        "import seaborn as sns"
      ],
      "execution_count": 2,
      "outputs": []
    },
    {
      "cell_type": "code",
      "metadata": {
        "colab": {
          "base_uri": "https://localhost:8080/"
        },
        "id": "VRiEqFXeXv5k",
        "outputId": "3f9f1bca-4216-4bfa-ae88-2b91397dfb6a"
      },
      "source": [
        "import tensorflow as tf\n",
        "\n",
        "from tensorflow import keras\n",
        "from tensorflow.keras import layers\n",
        "from tensorflow.keras.layers.experimental import preprocessing\n",
        "\n",
        "print(tf.__version__)"
      ],
      "execution_count": 3,
      "outputs": [
        {
          "output_type": "stream",
          "text": [
            "2.6.0\n"
          ],
          "name": "stdout"
        }
      ]
    },
    {
      "cell_type": "code",
      "metadata": {
        "id": "EDU2sRmjXldc"
      },
      "source": [
        "np.set_printoptions(precision=3, suppress=True)"
      ],
      "execution_count": 4,
      "outputs": []
    },
    {
      "cell_type": "code",
      "metadata": {
        "id": "2DLRRt2KYm-I"
      },
      "source": [
        "train_dataset = pd.read_csv('https://raw.githubusercontent.com/Saketspradhan/Stock-Market-Analysis-System/main/fundamentally%20strong%20companies%20v4_train.csv')\n",
        "test_dataset = pd.read_csv('https://raw.githubusercontent.com/Saketspradhan/Stock-Market-Analysis-System/main/fundamentally%20strong%20companies%20v4_test.csv') "
      ],
      "execution_count": 5,
      "outputs": []
    },
    {
      "cell_type": "code",
      "metadata": {
        "colab": {
          "base_uri": "https://localhost:8080/",
          "height": 307
        },
        "id": "fAPzII1jYymB",
        "outputId": "8decef58-d0bc-412c-9e9f-61bea6e35f10"
      },
      "source": [
        "train_dataset.head()"
      ],
      "execution_count": 6,
      "outputs": [
        {
          "output_type": "execute_result",
          "data": {
            "text/html": [
              "<div>\n",
              "<style scoped>\n",
              "    .dataframe tbody tr th:only-of-type {\n",
              "        vertical-align: middle;\n",
              "    }\n",
              "\n",
              "    .dataframe tbody tr th {\n",
              "        vertical-align: top;\n",
              "    }\n",
              "\n",
              "    .dataframe thead th {\n",
              "        text-align: right;\n",
              "    }\n",
              "</style>\n",
              "<table border=\"1\" class=\"dataframe\">\n",
              "  <thead>\n",
              "    <tr style=\"text-align: right;\">\n",
              "      <th></th>\n",
              "      <th>Name</th>\n",
              "      <th>CMP</th>\n",
              "      <th>Price_to_Earnings</th>\n",
              "      <th>Market_Capitalization</th>\n",
              "      <th>Dividend_Yield</th>\n",
              "      <th>Net_Profit_last_Quarter</th>\n",
              "      <th>YOY_Quarterly_Profit_Growth</th>\n",
              "      <th>Sales_last_Quarter</th>\n",
              "      <th>YOY_Quarterly_Sales_Growth</th>\n",
              "      <th>Return_on_Capital_Employed</th>\n",
              "      <th>Sales_Growth_3_Years</th>\n",
              "      <th>Profit_Growth_3_Years</th>\n",
              "      <th>Debt_to_Equity</th>\n",
              "    </tr>\n",
              "  </thead>\n",
              "  <tbody>\n",
              "    <tr>\n",
              "      <th>0</th>\n",
              "      <td>Ksolves India</td>\n",
              "      <td>572.50</td>\n",
              "      <td>42.58</td>\n",
              "      <td>339.38</td>\n",
              "      <td>5.68</td>\n",
              "      <td>4.00</td>\n",
              "      <td>354.55</td>\n",
              "      <td>9.60</td>\n",
              "      <td>126.95</td>\n",
              "      <td>161.06</td>\n",
              "      <td>91.53</td>\n",
              "      <td>410.23</td>\n",
              "      <td>0.00</td>\n",
              "    </tr>\n",
              "    <tr>\n",
              "      <th>1</th>\n",
              "      <td>Nestle India</td>\n",
              "      <td>18273.30</td>\n",
              "      <td>79.70</td>\n",
              "      <td>176236.10</td>\n",
              "      <td>1.09</td>\n",
              "      <td>538.58</td>\n",
              "      <td>10.68</td>\n",
              "      <td>3476.70</td>\n",
              "      <td>13.97</td>\n",
              "      <td>139.29</td>\n",
              "      <td>10.07</td>\n",
              "      <td>19.34</td>\n",
              "      <td>0.07</td>\n",
              "    </tr>\n",
              "    <tr>\n",
              "      <th>2</th>\n",
              "      <td>Goenka Business</td>\n",
              "      <td>9.22</td>\n",
              "      <td>27.25</td>\n",
              "      <td>11.99</td>\n",
              "      <td>0.00</td>\n",
              "      <td>0.26</td>\n",
              "      <td>124.76</td>\n",
              "      <td>110.37</td>\n",
              "      <td>982.06</td>\n",
              "      <td>69.38</td>\n",
              "      <td>202.61</td>\n",
              "      <td>38.50</td>\n",
              "      <td>0.00</td>\n",
              "    </tr>\n",
              "    <tr>\n",
              "      <th>3</th>\n",
              "      <td>Tips Industries</td>\n",
              "      <td>1148.70</td>\n",
              "      <td>29.06</td>\n",
              "      <td>1510.21</td>\n",
              "      <td>0.13</td>\n",
              "      <td>14.58</td>\n",
              "      <td>139.80</td>\n",
              "      <td>28.12</td>\n",
              "      <td>87.72</td>\n",
              "      <td>64.57</td>\n",
              "      <td>23.99</td>\n",
              "      <td>140.63</td>\n",
              "      <td>0.00</td>\n",
              "    </tr>\n",
              "    <tr>\n",
              "      <th>4</th>\n",
              "      <td>Ajanta Soya</td>\n",
              "      <td>109.65</td>\n",
              "      <td>7.02</td>\n",
              "      <td>176.50</td>\n",
              "      <td>0.00</td>\n",
              "      <td>9.47</td>\n",
              "      <td>460.36</td>\n",
              "      <td>260.80</td>\n",
              "      <td>29.63</td>\n",
              "      <td>60.89</td>\n",
              "      <td>39.10</td>\n",
              "      <td>251.27</td>\n",
              "      <td>0.04</td>\n",
              "    </tr>\n",
              "  </tbody>\n",
              "</table>\n",
              "</div>"
            ],
            "text/plain": [
              "              Name       CMP  ...  Profit_Growth_3_Years  Debt_to_Equity\n",
              "0    Ksolves India    572.50  ...                 410.23            0.00\n",
              "1     Nestle India  18273.30  ...                  19.34            0.07\n",
              "2  Goenka Business      9.22  ...                  38.50            0.00\n",
              "3  Tips Industries   1148.70  ...                 140.63            0.00\n",
              "4      Ajanta Soya    109.65  ...                 251.27            0.04\n",
              "\n",
              "[5 rows x 13 columns]"
            ]
          },
          "metadata": {},
          "execution_count": 6
        }
      ]
    },
    {
      "cell_type": "code",
      "metadata": {
        "colab": {
          "base_uri": "https://localhost:8080/"
        },
        "id": "VF0GuSi0Y1bE",
        "outputId": "9840c5e6-1aeb-4a6e-8b42-fd05d9ad479c"
      },
      "source": [
        "train_dataset.isna().sum()"
      ],
      "execution_count": 7,
      "outputs": [
        {
          "output_type": "execute_result",
          "data": {
            "text/plain": [
              "Name                           0\n",
              "CMP                            0\n",
              "Price_to_Earnings              0\n",
              "Market_Capitalization          0\n",
              "Dividend_Yield                 0\n",
              "Net_Profit_last_Quarter        0\n",
              "YOY_Quarterly_Profit_Growth    0\n",
              "Sales_last_Quarter             0\n",
              "YOY_Quarterly_Sales_Growth     0\n",
              "Return_on_Capital_Employed     0\n",
              "Sales_Growth_3_Years           0\n",
              "Profit_Growth_3_Years          0\n",
              "Debt_to_Equity                 0\n",
              "dtype: int64"
            ]
          },
          "metadata": {},
          "execution_count": 7
        }
      ]
    },
    {
      "cell_type": "code",
      "metadata": {
        "id": "W0eT4_kdZHVz"
      },
      "source": [
        "train_dataset = train_dataset.dropna()"
      ],
      "execution_count": 8,
      "outputs": []
    },
    {
      "cell_type": "code",
      "metadata": {
        "colab": {
          "base_uri": "https://localhost:8080/",
          "height": 1000
        },
        "id": "4pVgZVTtZN7h",
        "outputId": "49730ac8-2248-465e-a4be-ab6f2110bdb4"
      },
      "source": [
        "sns.pairplot(train_dataset[['CMP', 'Price_to_Earnings', 'Market_Capitalization', 'YOY_Quarterly_Profit_Growth', 'Return_on_Capital_Employed', 'Debt_to_Equity']], diag_kind='kde')"
      ],
      "execution_count": null,
      "outputs": [
        {
          "output_type": "execute_result",
          "data": {
            "text/plain": [
              "<seaborn.axisgrid.PairGrid at 0x7fce781bcf50>"
            ]
          },
          "metadata": {},
          "execution_count": 10
        },
        {
          "output_type": "display_data",
          "data": {
            "image/png": "[encoded data removed]",
            "text/plain": [
              "<Figure size 1080x1080 with 42 Axes>"
            ]
          },
          "metadata": {
            "needs_background": "light"
          }
        }
      ]
    },
    {
      "cell_type": "code",
      "metadata": {
        "colab": {
          "base_uri": "https://localhost:8080/",
          "height": 418
        },
        "id": "zLSxjvo9cU58",
        "outputId": "ce65287b-8e6a-42bf-98fc-b0ce87052d91"
      },
      "source": [
        "train_dataset.describe().transpose()"
      ],
      "execution_count": 9,
      "outputs": [
        {
          "output_type": "execute_result",
          "data": {
            "text/html": [
              "<div>\n",
              "<style scoped>\n",
              "    .dataframe tbody tr th:only-of-type {\n",
              "        vertical-align: middle;\n",
              "    }\n",
              "\n",
              "    .dataframe tbody tr th {\n",
              "        vertical-align: top;\n",
              "    }\n",
              "\n",
              "    .dataframe thead th {\n",
              "        text-align: right;\n",
              "    }\n",
              "</style>\n",
              "<table border=\"1\" class=\"dataframe\">\n",
              "  <thead>\n",
              "    <tr style=\"text-align: right;\">\n",
              "      <th></th>\n",
              "      <th>count</th>\n",
              "      <th>mean</th>\n",
              "      <th>std</th>\n",
              "      <th>min</th>\n",
              "      <th>25%</th>\n",
              "      <th>50%</th>\n",
              "      <th>75%</th>\n",
              "      <th>max</th>\n",
              "    </tr>\n",
              "  </thead>\n",
              "  <tbody>\n",
              "    <tr>\n",
              "      <th>CMP</th>\n",
              "      <td>160.0</td>\n",
              "      <td>1172.634188</td>\n",
              "      <td>2853.936197</td>\n",
              "      <td>2.35</td>\n",
              "      <td>66.0375</td>\n",
              "      <td>335.025</td>\n",
              "      <td>1139.2500</td>\n",
              "      <td>27117.65</td>\n",
              "    </tr>\n",
              "    <tr>\n",
              "      <th>Price_to_Earnings</th>\n",
              "      <td>160.0</td>\n",
              "      <td>29.806438</td>\n",
              "      <td>46.748834</td>\n",
              "      <td>1.17</td>\n",
              "      <td>11.5650</td>\n",
              "      <td>21.030</td>\n",
              "      <td>32.9900</td>\n",
              "      <td>548.04</td>\n",
              "    </tr>\n",
              "    <tr>\n",
              "      <th>Market_Capitalization</th>\n",
              "      <td>160.0</td>\n",
              "      <td>7708.408625</td>\n",
              "      <td>21129.825421</td>\n",
              "      <td>2.35</td>\n",
              "      <td>81.3975</td>\n",
              "      <td>810.250</td>\n",
              "      <td>5303.6625</td>\n",
              "      <td>176236.10</td>\n",
              "    </tr>\n",
              "    <tr>\n",
              "      <th>Dividend_Yield</th>\n",
              "      <td>160.0</td>\n",
              "      <td>0.391563</td>\n",
              "      <td>1.006871</td>\n",
              "      <td>0.00</td>\n",
              "      <td>0.0000</td>\n",
              "      <td>0.120</td>\n",
              "      <td>0.4300</td>\n",
              "      <td>10.27</td>\n",
              "    </tr>\n",
              "    <tr>\n",
              "      <th>Net_Profit_last_Quarter</th>\n",
              "      <td>160.0</td>\n",
              "      <td>61.992188</td>\n",
              "      <td>118.620284</td>\n",
              "      <td>-6.03</td>\n",
              "      <td>1.3200</td>\n",
              "      <td>12.040</td>\n",
              "      <td>64.1000</td>\n",
              "      <td>629.90</td>\n",
              "    </tr>\n",
              "    <tr>\n",
              "      <th>YOY_Quarterly_Profit_Growth</th>\n",
              "      <td>160.0</td>\n",
              "      <td>537.046750</td>\n",
              "      <td>1536.395651</td>\n",
              "      <td>10.68</td>\n",
              "      <td>68.2275</td>\n",
              "      <td>152.060</td>\n",
              "      <td>400.0000</td>\n",
              "      <td>12011.11</td>\n",
              "    </tr>\n",
              "    <tr>\n",
              "      <th>Sales_last_Quarter</th>\n",
              "      <td>160.0</td>\n",
              "      <td>626.421187</td>\n",
              "      <td>1634.581966</td>\n",
              "      <td>0.02</td>\n",
              "      <td>16.7700</td>\n",
              "      <td>114.325</td>\n",
              "      <td>406.2650</td>\n",
              "      <td>15503.94</td>\n",
              "    </tr>\n",
              "    <tr>\n",
              "      <th>YOY_Quarterly_Sales_Growth</th>\n",
              "      <td>160.0</td>\n",
              "      <td>114.231187</td>\n",
              "      <td>280.513682</td>\n",
              "      <td>-93.10</td>\n",
              "      <td>20.7500</td>\n",
              "      <td>47.105</td>\n",
              "      <td>109.8950</td>\n",
              "      <td>2983.33</td>\n",
              "    </tr>\n",
              "    <tr>\n",
              "      <th>Return_on_Capital_Employed</th>\n",
              "      <td>160.0</td>\n",
              "      <td>26.012750</td>\n",
              "      <td>19.804473</td>\n",
              "      <td>0.78</td>\n",
              "      <td>14.3000</td>\n",
              "      <td>21.810</td>\n",
              "      <td>33.9650</td>\n",
              "      <td>161.06</td>\n",
              "    </tr>\n",
              "    <tr>\n",
              "      <th>Sales_Growth_3_Years</th>\n",
              "      <td>160.0</td>\n",
              "      <td>30.260625</td>\n",
              "      <td>32.678069</td>\n",
              "      <td>10.03</td>\n",
              "      <td>13.7650</td>\n",
              "      <td>18.150</td>\n",
              "      <td>33.9500</td>\n",
              "      <td>250.34</td>\n",
              "    </tr>\n",
              "    <tr>\n",
              "      <th>Profit_Growth_3_Years</th>\n",
              "      <td>160.0</td>\n",
              "      <td>72.508625</td>\n",
              "      <td>87.011671</td>\n",
              "      <td>10.42</td>\n",
              "      <td>31.8100</td>\n",
              "      <td>46.320</td>\n",
              "      <td>69.8000</td>\n",
              "      <td>735.21</td>\n",
              "    </tr>\n",
              "    <tr>\n",
              "      <th>Debt_to_Equity</th>\n",
              "      <td>160.0</td>\n",
              "      <td>0.182500</td>\n",
              "      <td>0.243755</td>\n",
              "      <td>0.00</td>\n",
              "      <td>0.0000</td>\n",
              "      <td>0.075</td>\n",
              "      <td>0.2550</td>\n",
              "      <td>0.98</td>\n",
              "    </tr>\n",
              "  </tbody>\n",
              "</table>\n",
              "</div>"
            ],
            "text/plain": [
              "                             count         mean  ...        75%        max\n",
              "CMP                          160.0  1172.634188  ...  1139.2500   27117.65\n",
              "Price_to_Earnings            160.0    29.806438  ...    32.9900     548.04\n",
              "Market_Capitalization        160.0  7708.408625  ...  5303.6625  176236.10\n",
              "Dividend_Yield               160.0     0.391563  ...     0.4300      10.27\n",
              "Net_Profit_last_Quarter      160.0    61.992188  ...    64.1000     629.90\n",
              "YOY_Quarterly_Profit_Growth  160.0   537.046750  ...   400.0000   12011.11\n",
              "Sales_last_Quarter           160.0   626.421187  ...   406.2650   15503.94\n",
              "YOY_Quarterly_Sales_Growth   160.0   114.231187  ...   109.8950    2983.33\n",
              "Return_on_Capital_Employed   160.0    26.012750  ...    33.9650     161.06\n",
              "Sales_Growth_3_Years         160.0    30.260625  ...    33.9500     250.34\n",
              "Profit_Growth_3_Years        160.0    72.508625  ...    69.8000     735.21\n",
              "Debt_to_Equity               160.0     0.182500  ...     0.2550       0.98\n",
              "\n",
              "[12 rows x 8 columns]"
            ]
          },
          "metadata": {},
          "execution_count": 9
        }
      ]
    },
    {
      "cell_type": "code",
      "metadata": {
        "id": "v8_VIBl0c_oa"
      },
      "source": [
        "train_features = train_dataset.copy()\n",
        "test_features = test_dataset.copy()\n",
        "\n",
        "train_labels = train_features.pop('CMP')\n",
        "test_labels = test_features.pop('CMP')"
      ],
      "execution_count": 10,
      "outputs": []
    },
    {
      "cell_type": "code",
      "metadata": {
        "colab": {
          "base_uri": "https://localhost:8080/",
          "height": 418
        },
        "id": "IwUwATmfdFiQ",
        "outputId": "467ed470-281d-4cd4-8ae8-9591f0ab376a"
      },
      "source": [
        "train_dataset.describe().transpose()[['mean', 'std']]"
      ],
      "execution_count": 11,
      "outputs": [
        {
          "output_type": "execute_result",
          "data": {
            "text/html": [
              "<div>\n",
              "<style scoped>\n",
              "    .dataframe tbody tr th:only-of-type {\n",
              "        vertical-align: middle;\n",
              "    }\n",
              "\n",
              "    .dataframe tbody tr th {\n",
              "        vertical-align: top;\n",
              "    }\n",
              "\n",
              "    .dataframe thead th {\n",
              "        text-align: right;\n",
              "    }\n",
              "</style>\n",
              "<table border=\"1\" class=\"dataframe\">\n",
              "  <thead>\n",
              "    <tr style=\"text-align: right;\">\n",
              "      <th></th>\n",
              "      <th>mean</th>\n",
              "      <th>std</th>\n",
              "    </tr>\n",
              "  </thead>\n",
              "  <tbody>\n",
              "    <tr>\n",
              "      <th>CMP</th>\n",
              "      <td>1172.634188</td>\n",
              "      <td>2853.936197</td>\n",
              "    </tr>\n",
              "    <tr>\n",
              "      <th>Price_to_Earnings</th>\n",
              "      <td>29.806438</td>\n",
              "      <td>46.748834</td>\n",
              "    </tr>\n",
              "    <tr>\n",
              "      <th>Market_Capitalization</th>\n",
              "      <td>7708.408625</td>\n",
              "      <td>21129.825421</td>\n",
              "    </tr>\n",
              "    <tr>\n",
              "      <th>Dividend_Yield</th>\n",
              "      <td>0.391563</td>\n",
              "      <td>1.006871</td>\n",
              "    </tr>\n",
              "    <tr>\n",
              "      <th>Net_Profit_last_Quarter</th>\n",
              "      <td>61.992188</td>\n",
              "      <td>118.620284</td>\n",
              "    </tr>\n",
              "    <tr>\n",
              "      <th>YOY_Quarterly_Profit_Growth</th>\n",
              "      <td>537.046750</td>\n",
              "      <td>1536.395651</td>\n",
              "    </tr>\n",
              "    <tr>\n",
              "      <th>Sales_last_Quarter</th>\n",
              "      <td>626.421187</td>\n",
              "      <td>1634.581966</td>\n",
              "    </tr>\n",
              "    <tr>\n",
              "      <th>YOY_Quarterly_Sales_Growth</th>\n",
              "      <td>114.231187</td>\n",
              "      <td>280.513682</td>\n",
              "    </tr>\n",
              "    <tr>\n",
              "      <th>Return_on_Capital_Employed</th>\n",
              "      <td>26.012750</td>\n",
              "      <td>19.804473</td>\n",
              "    </tr>\n",
              "    <tr>\n",
              "      <th>Sales_Growth_3_Years</th>\n",
              "      <td>30.260625</td>\n",
              "      <td>32.678069</td>\n",
              "    </tr>\n",
              "    <tr>\n",
              "      <th>Profit_Growth_3_Years</th>\n",
              "      <td>72.508625</td>\n",
              "      <td>87.011671</td>\n",
              "    </tr>\n",
              "    <tr>\n",
              "      <th>Debt_to_Equity</th>\n",
              "      <td>0.182500</td>\n",
              "      <td>0.243755</td>\n",
              "    </tr>\n",
              "  </tbody>\n",
              "</table>\n",
              "</div>"
            ],
            "text/plain": [
              "                                    mean           std\n",
              "CMP                          1172.634188   2853.936197\n",
              "Price_to_Earnings              29.806438     46.748834\n",
              "Market_Capitalization        7708.408625  21129.825421\n",
              "Dividend_Yield                  0.391563      1.006871\n",
              "Net_Profit_last_Quarter        61.992188    118.620284\n",
              "YOY_Quarterly_Profit_Growth   537.046750   1536.395651\n",
              "Sales_last_Quarter            626.421187   1634.581966\n",
              "YOY_Quarterly_Sales_Growth    114.231187    280.513682\n",
              "Return_on_Capital_Employed     26.012750     19.804473\n",
              "Sales_Growth_3_Years           30.260625     32.678069\n",
              "Profit_Growth_3_Years          72.508625     87.011671\n",
              "Debt_to_Equity                  0.182500      0.243755"
            ]
          },
          "metadata": {},
          "execution_count": 11
        }
      ]
    },
    {
      "cell_type": "code",
      "metadata": {
        "colab": {
          "base_uri": "https://localhost:8080/"
        },
        "id": "XnlYe-rSf-vN",
        "outputId": "36858244-4c4a-4f11-dc69-15a1d69f8c5a"
      },
      "source": [
        "train_features.pop('Name')"
      ],
      "execution_count": 12,
      "outputs": [
        {
          "output_type": "execute_result",
          "data": {
            "text/plain": [
              "0         Ksolves India\n",
              "1          Nestle India\n",
              "2       Goenka Business\n",
              "3       Tips Industries\n",
              "4           Ajanta Soya\n",
              "             ...       \n",
              "155        LWS Knitwear\n",
              "156    Ramgopal Polytex\n",
              "157    Nalwa Sons Invst\n",
              "158     Lee & Nee Soft.\n",
              "159    Nazara Technolo.\n",
              "Name: Name, Length: 160, dtype: object"
            ]
          },
          "metadata": {},
          "execution_count": 12
        }
      ]
    },
    {
      "cell_type": "code",
      "metadata": {
        "colab": {
          "base_uri": "https://localhost:8080/"
        },
        "id": "R6WY59hKYcq1",
        "outputId": "b57194b1-923a-44af-8e86-b679e1c95aa1"
      },
      "source": [
        "test_features.pop('Name')"
      ],
      "execution_count": 13,
      "outputs": [
        {
          "output_type": "execute_result",
          "data": {
            "text/plain": [
              "0         Vistar Amar\n",
              "1    Chandra Pr. Intl\n",
              "2      Godawari Power\n",
              "3    Paramone Concept\n",
              "4       Ajanta Pharma\n",
              "5        Prince Pipes\n",
              "6        Shakti Pumps\n",
              "7      P I Industries\n",
              "8      Canopy Finance\n",
              "Name: Name, dtype: object"
            ]
          },
          "metadata": {},
          "execution_count": 13
        }
      ]
    },
    {
      "cell_type": "code",
      "metadata": {
        "id": "4GtuHvrjdXsm"
      },
      "source": [
        "normalizer = preprocessing.Normalization(axis=-1)"
      ],
      "execution_count": 14,
      "outputs": []
    },
    {
      "cell_type": "code",
      "metadata": {
        "id": "EcOisePKdgtn"
      },
      "source": [
        "normalizer.adapt(np.array(train_features))"
      ],
      "execution_count": 15,
      "outputs": []
    },
    {
      "cell_type": "code",
      "metadata": {
        "colab": {
          "base_uri": "https://localhost:8080/"
        },
        "id": "6xvT8Y_1dk3j",
        "outputId": "957e2747-59ed-4b2d-af90-084472ce301e"
      },
      "source": [
        "print(normalizer.mean.numpy())"
      ],
      "execution_count": 16,
      "outputs": [
        {
          "output_type": "stream",
          "text": [
            "[[  29.806 7708.408    0.392   61.992  537.047  626.421  114.231   26.013\n",
            "    30.261   72.509    0.183]]\n"
          ],
          "name": "stdout"
        }
      ]
    },
    {
      "cell_type": "code",
      "metadata": {
        "colab": {
          "base_uri": "https://localhost:8080/"
        },
        "id": "BbVFnkNqiWyR",
        "outputId": "d4f9f4ba-7c0b-472d-91a6-26cfb6a73c2b"
      },
      "source": [
        "first = np.array(train_features[:1])\n",
        "\n",
        "with np.printoptions(precision=2, suppress=True):\n",
        "  print('First example:', first)\n",
        "  print()\n",
        "  print('Normalized:', normalizer(first).numpy())"
      ],
      "execution_count": 17,
      "outputs": [
        {
          "output_type": "stream",
          "text": [
            "First example: [[ 42.58 339.38   5.68   4.   354.55   9.6  126.95 161.06  91.53 410.23\n",
            "    0.  ]]\n",
            "\n",
            "Normalized: [[ 0.27 -0.35  5.27 -0.49 -0.12 -0.38  0.05  6.84  1.88  3.89 -0.75]]\n"
          ],
          "name": "stdout"
        }
      ]
    },
    {
      "cell_type": "code",
      "metadata": {
        "id": "m18of6o4jQQR"
      },
      "source": [
        "Market_Capitalization = np.array(train_features['Market_Capitalization'])\n",
        "\n",
        "Market_Capitalization_normalizer = preprocessing.Normalization(input_shape=[1,], axis=None)\n",
        "Market_Capitalization_normalizer.adapt(Market_Capitalization)"
      ],
      "execution_count": 18,
      "outputs": []
    },
    {
      "cell_type": "code",
      "metadata": {
        "id": "gRtGmuJ_mGBZ"
      },
      "source": [
        "Market_Capitalization_model = tf.keras.Sequential([\n",
        "    Market_Capitalization_normalizer,\n",
        "    layers.Dense(units=1)\n",
        "])"
      ],
      "execution_count": 19,
      "outputs": []
    },
    {
      "cell_type": "code",
      "metadata": {
        "colab": {
          "base_uri": "https://localhost:8080/"
        },
        "id": "IxcUiyccmUMt",
        "outputId": "8e0a3019-c687-42e9-9558-b9b5173215e2"
      },
      "source": [
        "Market_Capitalization_model.summary()"
      ],
      "execution_count": 20,
      "outputs": [
        {
          "output_type": "stream",
          "text": [
            "Model: \"sequential\"\n",
            "_________________________________________________________________\n",
            "Layer (type)                 Output Shape              Param #   \n",
            "=================================================================\n",
            "normalization_1 (Normalizati (None, 1)                 3         \n",
            "_________________________________________________________________\n",
            "dense (Dense)                (None, 1)                 2         \n",
            "=================================================================\n",
            "Total params: 5\n",
            "Trainable params: 2\n",
            "Non-trainable params: 3\n",
            "_________________________________________________________________\n"
          ],
          "name": "stdout"
        }
      ]
    },
    {
      "cell_type": "code",
      "metadata": {
        "colab": {
          "base_uri": "https://localhost:8080/"
        },
        "id": "kuponcXWmopn",
        "outputId": "56ce1937-0166-4eed-97cc-42c40728e483"
      },
      "source": [
        "Market_Capitalization_model.predict(Market_Capitalization[:10])"
      ],
      "execution_count": 21,
      "outputs": [
        {
          "output_type": "execute_result",
          "data": {
            "text/plain": [
              "array([[ 0.095],\n",
              "       [-2.171],\n",
              "       [ 0.099],\n",
              "       [ 0.08 ],\n",
              "       [ 0.097],\n",
              "       [-0.058],\n",
              "       [ 0.074],\n",
              "       [-0.175],\n",
              "       [-0.052],\n",
              "       [ 0.053]], dtype=float32)"
            ]
          },
          "metadata": {},
          "execution_count": 21
        }
      ]
    },
    {
      "cell_type": "code",
      "metadata": {
        "id": "GVo2N0yumvor"
      },
      "source": [
        "Market_Capitalization_model.compile(\n",
        "    optimizer=tf.optimizers.Adam(learning_rate=0.1),\n",
        "    loss='mean_absolute_error')"
      ],
      "execution_count": 22,
      "outputs": []
    },
    {
      "cell_type": "code",
      "metadata": {
        "colab": {
          "base_uri": "https://localhost:8080/"
        },
        "id": "Uc2XRCQSnY85",
        "outputId": "767d4333-b1de-4eda-ad13-9a3c9a772cdd"
      },
      "source": [
        "%%time\n",
        "history = Market_Capitalization_model.fit(\n",
        "    train_features['Market_Capitalization'], train_labels,\n",
        "    epochs=5000,\n",
        "    verbose=0, # suppress logging\n",
        "    validation_split = 0.2) # calculate validation results on 20% of the training data"
      ],
      "execution_count": 23,
      "outputs": [
        {
          "output_type": "stream",
          "text": [
            "CPU times: user 1min 30s, sys: 4.82 s, total: 1min 35s\n",
            "Wall time: 1min 26s\n"
          ],
          "name": "stdout"
        }
      ]
    },
    {
      "cell_type": "code",
      "metadata": {
        "colab": {
          "base_uri": "https://localhost:8080/",
          "height": 203
        },
        "id": "sSKiu-EZnwcH",
        "outputId": "aaa35d2c-76ad-44ca-dab1-5408422bb159"
      },
      "source": [
        "hist = pd.DataFrame(history.history)\n",
        "hist['epoch'] = history.epoch\n",
        "hist.tail()"
      ],
      "execution_count": 24,
      "outputs": [
        {
          "output_type": "execute_result",
          "data": {
            "text/html": [
              "<div>\n",
              "<style scoped>\n",
              "    .dataframe tbody tr th:only-of-type {\n",
              "        vertical-align: middle;\n",
              "    }\n",
              "\n",
              "    .dataframe tbody tr th {\n",
              "        vertical-align: top;\n",
              "    }\n",
              "\n",
              "    .dataframe thead th {\n",
              "        text-align: right;\n",
              "    }\n",
              "</style>\n",
              "<table border=\"1\" class=\"dataframe\">\n",
              "  <thead>\n",
              "    <tr style=\"text-align: right;\">\n",
              "      <th></th>\n",
              "      <th>loss</th>\n",
              "      <th>val_loss</th>\n",
              "      <th>epoch</th>\n",
              "    </tr>\n",
              "  </thead>\n",
              "  <tbody>\n",
              "    <tr>\n",
              "      <th>4995</th>\n",
              "      <td>917.076965</td>\n",
              "      <td>291.336548</td>\n",
              "      <td>4995</td>\n",
              "    </tr>\n",
              "    <tr>\n",
              "      <th>4996</th>\n",
              "      <td>917.072937</td>\n",
              "      <td>291.328735</td>\n",
              "      <td>4996</td>\n",
              "    </tr>\n",
              "    <tr>\n",
              "      <th>4997</th>\n",
              "      <td>917.056335</td>\n",
              "      <td>291.317078</td>\n",
              "      <td>4997</td>\n",
              "    </tr>\n",
              "    <tr>\n",
              "      <th>4998</th>\n",
              "      <td>917.050415</td>\n",
              "      <td>291.292297</td>\n",
              "      <td>4998</td>\n",
              "    </tr>\n",
              "    <tr>\n",
              "      <th>4999</th>\n",
              "      <td>917.037903</td>\n",
              "      <td>291.306396</td>\n",
              "      <td>4999</td>\n",
              "    </tr>\n",
              "  </tbody>\n",
              "</table>\n",
              "</div>"
            ],
            "text/plain": [
              "            loss    val_loss  epoch\n",
              "4995  917.076965  291.336548   4995\n",
              "4996  917.072937  291.328735   4996\n",
              "4997  917.056335  291.317078   4997\n",
              "4998  917.050415  291.292297   4998\n",
              "4999  917.037903  291.306396   4999"
            ]
          },
          "metadata": {},
          "execution_count": 24
        }
      ]
    },
    {
      "cell_type": "code",
      "metadata": {
        "id": "7AYYHfBrpv4r"
      },
      "source": [
        "def plot_loss(history):\n",
        "  plt.plot(history.history['loss'], label='loss')\n",
        "  plt.plot(history.history['val_loss'], label='val_loss')\n",
        "  plt.ylim([0, 1500])\n",
        "  plt.xlabel('Epoch')\n",
        "  plt.ylabel('Error [CMP]')\n",
        "  plt.legend()\n",
        "  plt.grid(True)"
      ],
      "execution_count": 25,
      "outputs": []
    },
    {
      "cell_type": "code",
      "metadata": {
        "colab": {
          "base_uri": "https://localhost:8080/",
          "height": 279
        },
        "id": "qg0kawQ5p1gQ",
        "outputId": "bb1f8c35-618e-4b02-c1ff-6b6d663ebcf9"
      },
      "source": [
        "plot_loss(history)"
      ],
      "execution_count": 26,
      "outputs": [
        {
          "output_type": "display_data",
          "data": {
            "image/png": "[encoded data removed]",
            "text/plain": [
              "<Figure size 432x288 with 1 Axes>"
            ]
          },
          "metadata": {
            "needs_background": "light"
          }
        }
      ]
    },
    {
      "cell_type": "code",
      "metadata": {
        "id": "sALECcNGsW13"
      },
      "source": [
        "test_results = {}\n",
        "\n",
        "test_results['Market_Capitalization_model'] = Market_Capitalization_model.evaluate(\n",
        "    test_features['Market_Capitalization'],\n",
        "    test_labels, verbose=0)"
      ],
      "execution_count": 27,
      "outputs": []
    },
    {
      "cell_type": "code",
      "metadata": {
        "id": "ztAmvKApssV9"
      },
      "source": [
        "x = tf.linspace(0.0, 250000, 10)\n",
        "y = Market_Capitalization_model.predict(x)"
      ],
      "execution_count": 28,
      "outputs": []
    },
    {
      "cell_type": "code",
      "metadata": {
        "id": "RQVfg24UszTt"
      },
      "source": [
        "def plot_Market_Capitalization(x, y):\n",
        "  plt.scatter(train_features['Market_Capitalization'], train_labels, label='Data')\n",
        "  plt.plot(x, y, color='k', label='Predictions')\n",
        "  plt.xlabel('Market_Capitalization')\n",
        "  plt.ylabel('CMP')\n",
        "  plt.legend()"
      ],
      "execution_count": 29,
      "outputs": []
    },
    {
      "cell_type": "code",
      "metadata": {
        "colab": {
          "base_uri": "https://localhost:8080/",
          "height": 280
        },
        "id": "GKxlXBN1s_J_",
        "outputId": "a552d30c-0c8d-4dcf-bf7c-7100dbb8edb0"
      },
      "source": [
        "plot_Market_Capitalization(x,y)"
      ],
      "execution_count": 30,
      "outputs": [
        {
          "output_type": "display_data",
          "data": {
            "image/png": "[encoded data removed]",
            "text/plain": [
              "<Figure size 432x288 with 1 Axes>"
            ]
          },
          "metadata": {
            "needs_background": "light"
          }
        }
      ]
    },
    {
      "cell_type": "code",
      "metadata": {
        "id": "ydAHX6DJ3MYN"
      },
      "source": [
        "linear_model = tf.keras.Sequential([\n",
        "    normalizer,\n",
        "    layers.Dense(units=1)\n",
        "])"
      ],
      "execution_count": 31,
      "outputs": []
    },
    {
      "cell_type": "code",
      "metadata": {
        "colab": {
          "base_uri": "https://localhost:8080/"
        },
        "id": "Atk9D0TD3Rq4",
        "outputId": "9a448b1a-5ad9-44cf-e380-ed2b3604d3ea"
      },
      "source": [
        "linear_model.predict(train_features[:10])"
      ],
      "execution_count": 32,
      "outputs": [
        {
          "output_type": "execute_result",
          "data": {
            "text/plain": [
              "array([[-1.027],\n",
              "       [ 0.079],\n",
              "       [ 0.508],\n",
              "       [-0.629],\n",
              "       [-1.517],\n",
              "       [ 0.542],\n",
              "       [-0.73 ],\n",
              "       [ 0.308],\n",
              "       [-0.89 ],\n",
              "       [-0.185]], dtype=float32)"
            ]
          },
          "metadata": {},
          "execution_count": 32
        }
      ]
    },
    {
      "cell_type": "code",
      "metadata": {
        "colab": {
          "base_uri": "https://localhost:8080/"
        },
        "id": "kqJ5vBSS3bER",
        "outputId": "59f99ad4-e664-4296-ba06-98fd6a90b593"
      },
      "source": [
        "linear_model.layers[1].kernel"
      ],
      "execution_count": 33,
      "outputs": [
        {
          "output_type": "execute_result",
          "data": {
            "text/plain": [
              "<tf.Variable 'dense_1/kernel:0' shape=(11, 1) dtype=float32, numpy=\n",
              "array([[ 0.404],\n",
              "       [ 0.503],\n",
              "       [ 0.391],\n",
              "       [-0.64 ],\n",
              "       [-0.562],\n",
              "       [-0.401],\n",
              "       [ 0.034],\n",
              "       [-0.309],\n",
              "       [ 0.114],\n",
              "       [-0.439],\n",
              "       [-0.068]], dtype=float32)>"
            ]
          },
          "metadata": {},
          "execution_count": 33
        }
      ]
    },
    {
      "cell_type": "code",
      "metadata": {
        "id": "9YKZHVwr3fWM"
      },
      "source": [
        "linear_model.compile(\n",
        "    optimizer=tf.optimizers.Adam(learning_rate=0.1),\n",
        "    loss='mean_absolute_error')"
      ],
      "execution_count": 34,
      "outputs": []
    },
    {
      "cell_type": "code",
      "metadata": {
        "colab": {
          "base_uri": "https://localhost:8080/"
        },
        "id": "MbIg14Sm3o7a",
        "outputId": "86d7109d-a236-419c-c76b-a2ee1a89dc38"
      },
      "source": [
        "%%time\n",
        "history = linear_model.fit(\n",
        "    train_features, train_labels, \n",
        "    epochs=3000, # suppress logging\n",
        "    verbose=0, # Calculate validation results on 20% of the training data\n",
        "    validation_split = 0.2)"
      ],
      "execution_count": 35,
      "outputs": [
        {
          "output_type": "stream",
          "text": [
            "CPU times: user 55.5 s, sys: 3.05 s, total: 58.6 s\n",
            "Wall time: 53.2 s\n"
          ],
          "name": "stdout"
        }
      ]
    },
    {
      "cell_type": "code",
      "metadata": {
        "colab": {
          "base_uri": "https://localhost:8080/",
          "height": 279
        },
        "id": "rPEcdyXh4TWI",
        "outputId": "307b1792-4466-4472-b0d1-b4126c49bb5e"
      },
      "source": [
        "plot_loss(history)"
      ],
      "execution_count": 36,
      "outputs": [
        {
          "output_type": "display_data",
          "data": {
            "image/png": "[encoded data removed]",
            "text/plain": [
              "<Figure size 432x288 with 1 Axes>"
            ]
          },
          "metadata": {
            "needs_background": "light"
          }
        }
      ]
    },
    {
      "cell_type": "code",
      "metadata": {
        "id": "GDYA9I2q4bLc"
      },
      "source": [
        "test_results['linear_model'] = linear_model.evaluate(test_features, test_labels, verbose=0)"
      ],
      "execution_count": 37,
      "outputs": []
    },
    {
      "cell_type": "code",
      "metadata": {
        "id": "ApHPTQRKDFBI"
      },
      "source": [
        "def build_and_compile_model(norm):\n",
        "  model = keras.Sequential([\n",
        "      norm,\n",
        "      layers.Dense(64, activation='relu'),\n",
        "      layers.Dense(64, activation='relu'),\n",
        "      layers.Dense(1)\n",
        "  ])\n",
        "\n",
        "  model.compile(loss='mean_absolute_error',\n",
        "                optimizer=tf.keras.optimizers.Adam(0.001))\n",
        "  return model"
      ],
      "execution_count": 38,
      "outputs": []
    },
    {
      "cell_type": "code",
      "metadata": {
        "id": "a-WKui2HEzND"
      },
      "source": [
        "dnn_Market_Capitalization_model = build_and_compile_model(Market_Capitalization_normalizer)"
      ],
      "execution_count": 39,
      "outputs": []
    },
    {
      "cell_type": "code",
      "metadata": {
        "colab": {
          "base_uri": "https://localhost:8080/"
        },
        "id": "ecXbhn80cgRk",
        "outputId": "53d1c4b2-9f2c-44c5-c56f-2f1c66b4747c"
      },
      "source": [
        "dnn_Market_Capitalization_model.summary()"
      ],
      "execution_count": 40,
      "outputs": [
        {
          "output_type": "stream",
          "text": [
            "Model: \"sequential_2\"\n",
            "_________________________________________________________________\n",
            "Layer (type)                 Output Shape              Param #   \n",
            "=================================================================\n",
            "normalization_1 (Normalizati (None, 1)                 3         \n",
            "_________________________________________________________________\n",
            "dense_2 (Dense)              (None, 64)                128       \n",
            "_________________________________________________________________\n",
            "dense_3 (Dense)              (None, 64)                4160      \n",
            "_________________________________________________________________\n",
            "dense_4 (Dense)              (None, 1)                 65        \n",
            "=================================================================\n",
            "Total params: 4,356\n",
            "Trainable params: 4,353\n",
            "Non-trainable params: 3\n",
            "_________________________________________________________________\n"
          ],
          "name": "stdout"
        }
      ]
    },
    {
      "cell_type": "code",
      "metadata": {
        "colab": {
          "base_uri": "https://localhost:8080/"
        },
        "id": "I9QWTZXDcpIz",
        "outputId": "98bac55d-6f8f-4620-f178-48e7ef129fe2"
      },
      "source": [
        "%%time\n",
        "history = dnn_Market_Capitalization_model.fit(\n",
        "    train_features['Market_Capitalization'], train_labels,\n",
        "    validation_split=0.2,\n",
        "    verbose=0, epochs=3000)"
      ],
      "execution_count": 41,
      "outputs": [
        {
          "output_type": "stream",
          "text": [
            "CPU times: user 1min 1s, sys: 3.53 s, total: 1min 5s\n",
            "Wall time: 59.3 s\n"
          ],
          "name": "stdout"
        }
      ]
    },
    {
      "cell_type": "code",
      "metadata": {
        "colab": {
          "base_uri": "https://localhost:8080/",
          "height": 279
        },
        "id": "IswWPi-FdQLa",
        "outputId": "528ccc68-d2f0-4ca7-b5e2-c5fc12e25ba8"
      },
      "source": [
        "plot_loss(history)"
      ],
      "execution_count": 42,
      "outputs": [
        {
          "output_type": "display_data",
          "data": {
            "image/png": "[encoded data removed]",
            "text/plain": [
              "<Figure size 432x288 with 1 Axes>"
            ]
          },
          "metadata": {
            "needs_background": "light"
          }
        }
      ]
    },
    {
      "cell_type": "code",
      "metadata": {
        "id": "XRHL4J75dX-L"
      },
      "source": [
        "x = tf.linspace(0.0, 100000, 10)\n",
        "y = dnn_Market_Capitalization_model.predict(x)"
      ],
      "execution_count": 43,
      "outputs": []
    },
    {
      "cell_type": "code",
      "metadata": {
        "colab": {
          "base_uri": "https://localhost:8080/",
          "height": 280
        },
        "id": "zVswtbeqdjkH",
        "outputId": "fe2b0fc4-5dd4-41c4-ac59-b8182721e11d"
      },
      "source": [
        "plot_Market_Capitalization(x, y)"
      ],
      "execution_count": 44,
      "outputs": [
        {
          "output_type": "display_data",
          "data": {
            "image/png": "[encoded data removed]",
            "text/plain": [
              "<Figure size 432x288 with 1 Axes>"
            ]
          },
          "metadata": {
            "needs_background": "light"
          }
        }
      ]
    },
    {
      "cell_type": "code",
      "metadata": {
        "id": "r8n-viNId1Vp"
      },
      "source": [
        "test_results['dnn_Market_Capitalization_model'] = dnn_Market_Capitalization_model.evaluate(\n",
        "    test_features['Market_Capitalization'], test_labels,\n",
        "    verbose=0)"
      ],
      "execution_count": 46,
      "outputs": []
    },
    {
      "cell_type": "code",
      "metadata": {
        "colab": {
          "base_uri": "https://localhost:8080/"
        },
        "id": "uoGa9oFEtppB",
        "outputId": "fb67f033-ae19-403e-8b49-c6eb19b5a417"
      },
      "source": [
        "dnn_model = build_and_compile_model(normalizer)\n",
        "dnn_model.summary()"
      ],
      "execution_count": 47,
      "outputs": [
        {
          "output_type": "stream",
          "text": [
            "Model: \"sequential_3\"\n",
            "_________________________________________________________________\n",
            "Layer (type)                 Output Shape              Param #   \n",
            "=================================================================\n",
            "normalization (Normalization (None, 11)                23        \n",
            "_________________________________________________________________\n",
            "dense_5 (Dense)              (None, 64)                768       \n",
            "_________________________________________________________________\n",
            "dense_6 (Dense)              (None, 64)                4160      \n",
            "_________________________________________________________________\n",
            "dense_7 (Dense)              (None, 1)                 65        \n",
            "=================================================================\n",
            "Total params: 5,016\n",
            "Trainable params: 4,993\n",
            "Non-trainable params: 23\n",
            "_________________________________________________________________\n"
          ],
          "name": "stdout"
        }
      ]
    },
    {
      "cell_type": "code",
      "metadata": {
        "colab": {
          "base_uri": "https://localhost:8080/"
        },
        "id": "T99_oYNtttOB",
        "outputId": "d9303f80-846a-4434-a9d3-414a4a922daa"
      },
      "source": [
        "%%time\n",
        "history = dnn_model.fit(\n",
        "    train_features, train_labels,\n",
        "    validation_split=0.2,\n",
        "    verbose=0, epochs=5000)"
      ],
      "execution_count": 48,
      "outputs": [
        {
          "output_type": "stream",
          "text": [
            "CPU times: user 1min 43s, sys: 6.05 s, total: 1min 50s\n",
            "Wall time: 1min 39s\n"
          ],
          "name": "stdout"
        }
      ]
    },
    {
      "cell_type": "code",
      "metadata": {
        "colab": {
          "base_uri": "https://localhost:8080/",
          "height": 279
        },
        "id": "RI714rGltzhd",
        "outputId": "6d2f3f2a-e5e7-49e0-d2f5-aa438e62b277"
      },
      "source": [
        "plot_loss(history)"
      ],
      "execution_count": 49,
      "outputs": [
        {
          "output_type": "display_data",
          "data": {
            "image/png": "[encoded data removed]",
            "text/plain": [
              "<Figure size 432x288 with 1 Axes>"
            ]
          },
          "metadata": {
            "needs_background": "light"
          }
        }
      ]
    },
    {
      "cell_type": "code",
      "metadata": {
        "id": "Qh5UErsgt17z"
      },
      "source": [
        "test_results['dnn_model'] = dnn_model.evaluate(test_features, test_labels, verbose=0)"
      ],
      "execution_count": 50,
      "outputs": []
    },
    {
      "cell_type": "code",
      "metadata": {
        "colab": {
          "base_uri": "https://localhost:8080/",
          "height": 172
        },
        "id": "ItyL3LgXt5kR",
        "outputId": "a9094f57-37e1-4259-da6a-5bba745909f1"
      },
      "source": [
        "pd.DataFrame(test_results, index=['Mean absolute error [CMP]']).T"
      ],
      "execution_count": 51,
      "outputs": [
        {
          "output_type": "execute_result",
          "data": {
            "text/html": [
              "<div>\n",
              "<style scoped>\n",
              "    .dataframe tbody tr th:only-of-type {\n",
              "        vertical-align: middle;\n",
              "    }\n",
              "\n",
              "    .dataframe tbody tr th {\n",
              "        vertical-align: top;\n",
              "    }\n",
              "\n",
              "    .dataframe thead th {\n",
              "        text-align: right;\n",
              "    }\n",
              "</style>\n",
              "<table border=\"1\" class=\"dataframe\">\n",
              "  <thead>\n",
              "    <tr style=\"text-align: right;\">\n",
              "      <th></th>\n",
              "      <th>Mean absolute error [CMP]</th>\n",
              "    </tr>\n",
              "  </thead>\n",
              "  <tbody>\n",
              "    <tr>\n",
              "      <th>Market_Capitalization_model</th>\n",
              "      <td>297.001923</td>\n",
              "    </tr>\n",
              "    <tr>\n",
              "      <th>linear_model</th>\n",
              "      <td>312.926880</td>\n",
              "    </tr>\n",
              "    <tr>\n",
              "      <th>dnn_Market_Capitalization_model</th>\n",
              "      <td>239.089767</td>\n",
              "    </tr>\n",
              "    <tr>\n",
              "      <th>dnn_model</th>\n",
              "      <td>555.261230</td>\n",
              "    </tr>\n",
              "  </tbody>\n",
              "</table>\n",
              "</div>"
            ],
            "text/plain": [
              "                                 Mean absolute error [CMP]\n",
              "Market_Capitalization_model                     297.001923\n",
              "linear_model                                    312.926880\n",
              "dnn_Market_Capitalization_model                 239.089767\n",
              "dnn_model                                       555.261230"
            ]
          },
          "metadata": {},
          "execution_count": 51
        }
      ]
    },
    {
      "cell_type": "code",
      "metadata": {
        "colab": {
          "base_uri": "https://localhost:8080/",
          "height": 283
        },
        "id": "PmYN-kGmuCbb",
        "outputId": "7422e879-8f6d-4699-d179-9fdbfe960f7f"
      },
      "source": [
        "test_predictions = dnn_model.predict(test_features).flatten()\n",
        "\n",
        "a = plt.axes(aspect='equal')\n",
        "plt.scatter(test_labels, test_predictions)\n",
        "plt.xlabel('True Values [CMP]')\n",
        "plt.ylabel('Predictions [CMP]')\n",
        "lims = [0, 5000]\n",
        "plt.xlim(lims)\n",
        "plt.ylim(lims)\n",
        "_ = plt.plot(lims, lims)\n"
      ],
      "execution_count": 55,
      "outputs": [
        {
          "output_type": "display_data",
          "data": {
            "image/png": "[encoded data removed]",
            "text/plain": [
              "<Figure size 432x288 with 1 Axes>"
            ]
          },
          "metadata": {
            "needs_background": "light"
          }
        }
      ]
    },
    {
      "cell_type": "code",
      "metadata": {
        "colab": {
          "base_uri": "https://localhost:8080/",
          "height": 279
        },
        "id": "ATQgzYCVutKe",
        "outputId": "e44c8d8f-fda6-429b-a8f2-b8252592c65b"
      },
      "source": [
        "error = test_predictions - test_labels\n",
        "plt.hist(error, bins=25)\n",
        "plt.xlabel('Prediction Error [CMP]')\n",
        "_ = plt.ylabel('Count')"
      ],
      "execution_count": 56,
      "outputs": [
        {
          "output_type": "display_data",
          "data": {
            "image/png": "[encoded data removed]",
            "text/plain": [
              "<Figure size 432x288 with 1 Axes>"
            ]
          },
          "metadata": {
            "needs_background": "light"
          }
        }
      ]
    },
    {
      "cell_type": "code",
      "metadata": {
        "colab": {
          "base_uri": "https://localhost:8080/"
        },
        "id": "-LJme3_Cu0io",
        "outputId": "f0e0e63d-ab65-4ab4-e89c-8fd3f6cbb6ca"
      },
      "source": [
        "dnn_model.save('dnn_model')"
      ],
      "execution_count": 57,
      "outputs": [
        {
          "output_type": "stream",
          "text": [
            "INFO:tensorflow:Assets written to: dnn_model/assets\n"
          ],
          "name": "stdout"
        }
      ]
    },
    {
      "cell_type": "code",
      "metadata": {
        "id": "U_kK-MV8u49q"
      },
      "source": [
        "reloaded = tf.keras.models.load_model('dnn_model')\n",
        "\n",
        "test_results['reloaded'] = reloaded.evaluate(\n",
        "    test_features, test_labels, verbose=0)"
      ],
      "execution_count": 58,
      "outputs": []
    },
    {
      "cell_type": "code",
      "metadata": {
        "colab": {
          "base_uri": "https://localhost:8080/",
          "height": 203
        },
        "id": "bT-mjlo8u8IW",
        "outputId": "d922843b-d629-4b61-990f-28157516c9bc"
      },
      "source": [
        "pd.DataFrame(test_results, index=['Mean absolute error [CMP]']).T"
      ],
      "execution_count": 59,
      "outputs": [
        {
          "output_type": "execute_result",
          "data": {
            "text/html": [
              "<div>\n",
              "<style scoped>\n",
              "    .dataframe tbody tr th:only-of-type {\n",
              "        vertical-align: middle;\n",
              "    }\n",
              "\n",
              "    .dataframe tbody tr th {\n",
              "        vertical-align: top;\n",
              "    }\n",
              "\n",
              "    .dataframe thead th {\n",
              "        text-align: right;\n",
              "    }\n",
              "</style>\n",
              "<table border=\"1\" class=\"dataframe\">\n",
              "  <thead>\n",
              "    <tr style=\"text-align: right;\">\n",
              "      <th></th>\n",
              "      <th>Mean absolute error [CMP]</th>\n",
              "    </tr>\n",
              "  </thead>\n",
              "  <tbody>\n",
              "    <tr>\n",
              "      <th>Market_Capitalization_model</th>\n",
              "      <td>297.001923</td>\n",
              "    </tr>\n",
              "    <tr>\n",
              "      <th>linear_model</th>\n",
              "      <td>312.926880</td>\n",
              "    </tr>\n",
              "    <tr>\n",
              "      <th>dnn_Market_Capitalization_model</th>\n",
              "      <td>239.089767</td>\n",
              "    </tr>\n",
              "    <tr>\n",
              "      <th>dnn_model</th>\n",
              "      <td>555.261230</td>\n",
              "    </tr>\n",
              "    <tr>\n",
              "      <th>reloaded</th>\n",
              "      <td>555.261230</td>\n",
              "    </tr>\n",
              "  </tbody>\n",
              "</table>\n",
              "</div>"
            ],
            "text/plain": [
              "                                 Mean absolute error [CMP]\n",
              "Market_Capitalization_model                     297.001923\n",
              "linear_model                                    312.926880\n",
              "dnn_Market_Capitalization_model                 239.089767\n",
              "dnn_model                                       555.261230\n",
              "reloaded                                        555.261230"
            ]
          },
          "metadata": {},
          "execution_count": 59
        }
      ]
    }
  ]
}